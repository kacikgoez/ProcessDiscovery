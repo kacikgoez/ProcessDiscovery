{
 "cells": [
  {
   "cell_type": "code",
   "execution_count": null,
   "outputs": [],
   "source": [
    "from backend.src.flask.services.process_mining_service import ProcessMiningService\n",
    "import pm4py\n",
    "\n",
    "pms = ProcessMiningService()\n",
    "el = pms.event_log"
   ],
   "metadata": {
    "collapsed": false
   },
   "id": "initial_id"
  },
  {
   "cell_type": "code",
   "execution_count": null,
   "outputs": [],
   "source": [
    "from functools import reduce\n",
    "from pm4py.objects.log.util import pandas_numpy_variants\n",
    "\n",
    "_, cases = pandas_numpy_variants.apply(el, parameters={})\n",
    "# switch keys and values in the dictionary to get the list of cases per variant\n",
    "variants = {}\n",
    "for case_id, variant in cases.items():\n",
    "    if variant not in variants:\n",
    "        variants[variant] = []\n",
    "    variants[variant].append(case_id)\n",
    "variants"
   ],
   "metadata": {
    "collapsed": false
   },
   "id": "4fce4e1662359f7e"
  },
  {
   "cell_type": "code",
   "execution_count": null,
   "outputs": [],
   "source": [
    "total_count = len(cases)\n",
    "attribute = 'gender'\n",
    "my_variants = []\n",
    "for variant, case_ids in variants.items():\n",
    "    freq = el.loc[el['case:concept:name'].isin(case_ids)].groupby('case:concept:name').first()[attribute].value_counts()\n",
    "    my_variants.append({\n",
    "        'variant': variant,\n",
    "        'count': len(case_ids),\n",
    "        'freq': freq.to_dict(),\n",
    "    })\n",
    "my_variants"
   ],
   "metadata": {
    "collapsed": false
   },
   "id": "36e76b41802367f3"
  },
  {
   "cell_type": "code",
   "execution_count": null,
   "outputs": [],
   "source": [],
   "metadata": {
    "collapsed": false
   },
   "id": "3a062825f0831555"
  }
 ],
 "metadata": {
  "kernelspec": {
   "display_name": "Python 3",
   "language": "python",
   "name": "python3"
  },
  "language_info": {
   "codemirror_mode": {
    "name": "ipython",
    "version": 2
   },
   "file_extension": ".py",
   "mimetype": "text/x-python",
   "name": "python",
   "nbconvert_exporter": "python",
   "pygments_lexer": "ipython2",
   "version": "2.7.6"
  }
 },
 "nbformat": 4,
 "nbformat_minor": 5
}
